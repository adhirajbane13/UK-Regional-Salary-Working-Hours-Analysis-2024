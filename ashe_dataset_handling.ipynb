{
 "cells": [
  {
   "cell_type": "code",
   "execution_count": 1,
   "metadata": {},
   "outputs": [
    {
     "name": "stdout",
     "output_type": "stream",
     "text": [
      "Requirement already satisfied: pandas in c:\\uos_lab\\anaconda\\envs\\com6018\\lib\\site-packages (1.5.3)\n",
      "Requirement already satisfied: openpyxl in c:\\uos_lab\\anaconda\\envs\\com6018\\lib\\site-packages (3.1.4)\n",
      "Requirement already satisfied: python-dateutil>=2.8.1 in c:\\uos_lab\\anaconda\\envs\\com6018\\lib\\site-packages (from pandas) (2.8.2)\n",
      "Requirement already satisfied: pytz>=2020.1 in c:\\uos_lab\\anaconda\\envs\\com6018\\lib\\site-packages (from pandas) (2023.3.post1)\n",
      "Requirement already satisfied: numpy>=1.21.0 in c:\\uos_lab\\anaconda\\envs\\com6018\\lib\\site-packages (from pandas) (1.26.4)\n",
      "Requirement already satisfied: et-xmlfile in c:\\uos_lab\\anaconda\\envs\\com6018\\lib\\site-packages (from openpyxl) (1.1.0)\n",
      "Requirement already satisfied: six>=1.5 in c:\\uos_lab\\anaconda\\envs\\com6018\\lib\\site-packages (from python-dateutil>=2.8.1->pandas) (1.16.0)\n",
      "Note: you may need to restart the kernel to use updated packages.\n"
     ]
    }
   ],
   "source": [
    "pip install pandas openpyxl"
   ]
  },
  {
   "cell_type": "code",
   "execution_count": 1,
   "metadata": {},
   "outputs": [
    {
     "name": "stdout",
     "output_type": "stream",
     "text": [
      "Cleaned dataset saved as cleaned_ashe_data.xlsx\n"
     ]
    }
   ],
   "source": [
    "import pandas as pd\n",
    "\n",
    "# Load the Excel file (replace with your actual file path)\n",
    "file_path = \"ashecombinedlocalauthoritiesdata.xlsx\"\n",
    "\n",
    "# Load all sheets\n",
    "sheets = pd.read_excel(file_path, sheet_name=None)  # Reads all sheets into a dictionary\n",
    "\n",
    "cleaned_sheets = {}\n",
    "\n",
    "for sheet_name, df in sheets.items():\n",
    "    # Skip the first row (title) and set the third row as column headers\n",
    "    df.columns = df.iloc[1]  # Use the correct field names\n",
    "    df = df[2:].reset_index(drop=True)  # Remove the title row\n",
    "\n",
    "    df = df[df.iloc[:, 1].astype(str).str.startswith('E')]  # Keeping only valid region codes\n",
    "\n",
    "    # Store cleaned sheet in dictionary\n",
    "    cleaned_sheets[sheet_name] = df\n",
    "\n",
    "# Save all cleaned sheets into a new Excel file\n",
    "cleaned_file_path = \"cleaned_ashe_data.xlsx\"\n",
    "with pd.ExcelWriter(cleaned_file_path, engine=\"openpyxl\") as writer:\n",
    "    for sheet_name, df in cleaned_sheets.items():\n",
    "        df.to_excel(writer, sheet_name=sheet_name, index=False)\n",
    "\n",
    "print(f\"Cleaned dataset saved as {cleaned_file_path} with all sheets processed!\")\n"
   ]
  },
  {
   "cell_type": "code",
   "execution_count": null,
   "metadata": {},
   "outputs": [],
   "source": []
  }
 ],
 "metadata": {
  "kernelspec": {
   "display_name": "com6018",
   "language": "python",
   "name": "python3"
  },
  "language_info": {
   "codemirror_mode": {
    "name": "ipython",
    "version": 3
   },
   "file_extension": ".py",
   "mimetype": "text/x-python",
   "name": "python",
   "nbconvert_exporter": "python",
   "pygments_lexer": "ipython3",
   "version": "3.11.7"
  }
 },
 "nbformat": 4,
 "nbformat_minor": 2
}
